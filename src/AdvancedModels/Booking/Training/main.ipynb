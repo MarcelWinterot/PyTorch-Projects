{
 "cells": [
  {
   "cell_type": "markdown",
   "metadata": {},
   "source": [
    "## Plans for training\n",
    "\n",
    "### 1. Train city_block to predict cities correctly\n",
    "\n",
    "### 2. Train country_block to predict countries given the predicted cities\n",
    "\n",
    "##### I belive passing city to country_block instead of country to city_block will be beneficial to the model, as it is easier to predict country given the city than vice versa. Our model could predict countries with 12% accuracy, so let's be optimistic and say it can predict cities with also 12% given correct country. Our final accuracy will be 12% * 12% = 1.44%, as their's 12% chance that model receives correct country and 12% chance it predict correct country. Now let's say our model can predict cities also with 12% accuracy, but it doesn't need the country, and instead we have a lookup table for which coutnry has which city. Then our accuracy will be 12% as we don't have to predict the country. Sadly we don't have the lookup table, so we have to create a model that acts as the lookup table. Let's say the model can predict country with 50% accuracy given the city. Then our accuracy is 12% * 50% = 6%, which is a lot better and easier that previous idea."
   ]
  },
  {
   "cell_type": "code",
   "execution_count": null,
   "metadata": {},
   "outputs": [],
   "source": [
    "import sys\n",
    "\n",
    "sys.path.append('../')\n",
    "\n",
    "import os\n",
    "import shutil\n",
    "\n",
    "if os.path.exists('./runs/booking'):\n",
    "    shutil.rmtree('./runs/booking')\n",
    "\n",
    "\n",
    "os.environ['CUDA_LAUNCH_BLOCKING'] = '1'\n",
    "# os.environ['PYTORCH_CUDA_ALLOC_CONF'] = 'max_split_size_mb:128'"
   ]
  },
  {
   "cell_type": "code",
   "execution_count": null,
   "metadata": {},
   "outputs": [],
   "source": [
    "from Model import Model_1 as Model\n",
    "\n",
    "import torch\n",
    "import torch.nn as nn\n",
    "import torch.functional as F\n",
    "\n",
    "from tqdm import tqdm\n",
    "\n",
    "from torch.utils.tensorboard import SummaryWriter\n",
    "\n",
    "from sklearn.model_selection import KFold\n",
    "\n",
    "writer = SummaryWriter('./runs/booking')\n",
    "\n",
    "torch.autograd.set_detect_anomaly(True)"
   ]
  },
  {
   "cell_type": "code",
   "execution_count": null,
   "metadata": {},
   "outputs": [],
   "source": [
    "BATCH_SIZE = 2048\n",
    "EPOCHS = 10\n",
    "LEARNING_RATE = 0.001\n",
    "device = torch.device('cuda' if torch.cuda.is_available() else 'cpu')\n",
    "FOLDS = 10\n",
    "K_ACCURACY = 4\n",
    "LRS_GAMMA = 0.625\n",
    "\n",
    "torch.backends.cudnn.enabled = True\n",
    "torch.backends.cudnn.deterministic = False\n",
    "torch.backends.cudnn.benchmark = True"
   ]
  },
  {
   "cell_type": "code",
   "execution_count": null,
   "metadata": {},
   "outputs": [],
   "source": [
    "from torch.utils.data import SubsetRandomSampler, DataLoader\n",
    "from Dataset import PartDataset\n",
    "\n",
    "X = torch.load('X.pt')\n",
    "y_city = torch.load('y_city.pt')\n",
    "\n",
    "dataset = PartDataset(X, y_city)"
   ]
  },
  {
   "cell_type": "code",
   "execution_count": null,
   "metadata": {},
   "outputs": [],
   "source": [
    "def reset_weights(m):\n",
    "    for layer in m.children():\n",
    "        if hasattr(layer, 'reset_parameters'):\n",
    "            layer.reset_parameters()"
   ]
  },
  {
   "cell_type": "code",
   "execution_count": null,
   "metadata": {},
   "outputs": [],
   "source": [
    "def accuracy_at_k(outputs, labels, k = 1):\n",
    "    batch_size = labels.size(0)\n",
    "\n",
    "    _, pred_indices = outputs.topk(k, 1, True, True)\n",
    "    correct = torch.sum(torch.argmax(\n",
    "        labels, dim=1).view(-1, 1) == pred_indices)\n",
    "\n",
    "    accuracy = correct.item() / batch_size\n",
    "    return accuracy * 100, correct.item()"
   ]
  },
  {
   "cell_type": "code",
   "execution_count": null,
   "metadata": {},
   "outputs": [],
   "source": [
    "def test(test_loader: torch.utils.data.DataLoader, model: nn.Module, criterion: nn.Module):\n",
    "    loss = 0\n",
    "    total_correct = 0\n",
    "    total_samples = 0\n",
    "\n",
    "    test_loader = tqdm(test_loader, desc='Testing')\n",
    "    \n",
    "    with torch.no_grad():\n",
    "        model.eval()\n",
    "        for inputs, labels in test_loader:\n",
    "            inputs = torch.unsqueeze(inputs, 2)\n",
    "\n",
    "            inputs = inputs.to(torch.float32).to(device)\n",
    "            labels = labels.to(torch.int64)\n",
    "\n",
    "            labels = nn.functional.one_hot(labels, num_classes=11987).to(torch.float32).to(device)\n",
    "\n",
    "            outputs = model(inputs)\n",
    "\n",
    "            loss += criterion(outputs, labels).item()\n",
    "\n",
    "            _, correct = accuracy_at_k(outputs, labels, K_ACCURACY)\n",
    "            total_correct += correct\n",
    "            total_samples += labels.size(0)\n",
    "\n",
    "    loss = loss / len(test_loader)\n",
    "    accuracy = total_correct / total_samples * 100\n",
    "\n",
    "    return loss, accuracy"
   ]
  },
  {
   "cell_type": "code",
   "execution_count": null,
   "metadata": {},
   "outputs": [],
   "source": [
    "def train(epochs: int, train_loader: torch.utils.data.DataLoader, model: nn.Module, optimizer: torch.optim.Optimizer, criterion: nn.Module, save_model: bool = False, lrs: torch.optim.lr_scheduler = None) -> None:\n",
    "    for epoch in range(epochs):\n",
    "        model.train()\n",
    "\n",
    "        train_loader = tqdm(train_loader, desc='Training')\n",
    "\n",
    "        running_loss = 0.0\n",
    "        total_correct = 0\n",
    "        batch = 0\n",
    "        total_samples = 0\n",
    "\n",
    "        for i, (inputs, labels) in enumerate(train_loader, 1):\n",
    "            inputs = torch.unsqueeze(inputs, 2)\n",
    "\n",
    "            inputs = inputs.to(torch.float32).to(device)\n",
    "            labels = labels.to(torch.int64)\n",
    "\n",
    "            labels = nn.functional.one_hot(labels, num_classes=11987).to(torch.float32).to(device)\n",
    "\n",
    "            outputs = model(inputs)\n",
    "\n",
    "            loss = criterion(outputs, labels)\n",
    "\n",
    "            loss.backward()\n",
    "            optimizer.step()\n",
    "            optimizer.zero_grad()\n",
    "\n",
    "            _, correct = accuracy_at_k(outputs, labels, K_ACCURACY)\n",
    "            total_correct += correct\n",
    "            total_samples += labels.size(0)\n",
    "\n",
    "            running_loss += loss.item()\n",
    "\n",
    "            if i % 100 == 0:\n",
    "                epoch_loss = running_loss / i\n",
    "                batch_accuracy = total_correct / total_samples * 100\n",
    "\n",
    "                writer.add_scalar(f'Loss/train/batch/{epoch}', epoch_loss, batch)\n",
    "                writer.add_scalar(f'Accuracy/train/batch/{epoch}', batch_accuracy, batch)\n",
    "\n",
    "                batch += 1\n",
    "\n",
    "                writer.flush()\n",
    "\n",
    "        epoch_loss = running_loss / len(train_loader)\n",
    "        epoch_accuracy = total_correct / total_samples * 100\n",
    "\n",
    "        print(f\"Epoch {epoch} loss: {epoch_loss:.4f}, accuracy: {epoch_accuracy:.2f}%\")\n",
    "\n",
    "        writer.add_scalar('Loss/train/epoch', epoch_loss, epoch)\n",
    "        writer.add_scalar('Accuracy/train/epoch', epoch_accuracy, epoch)\n",
    "\n",
    "        writer.flush()\n",
    "\n",
    "        if save_model:\n",
    "            torch.save(model.state_dict(), f'./model_{epoch}.pt')\n",
    "\n",
    "        if lrs is not None:\n",
    "            lrs.step()"
   ]
  },
  {
   "cell_type": "code",
   "execution_count": null,
   "metadata": {},
   "outputs": [],
   "source": [
    "def k_fold_cv(k: int, dataset: torch.utils.data.Dataset, model: nn.Module, optimizer: torch.optim.Optimizer, criterion: nn.Module):\n",
    "    folds = KFold(n_splits=k, shuffle=True)\n",
    "\n",
    "    for fold, (train_ids, test_ids) in enumerate(folds.split(dataset), 1):\n",
    "        print(f\"Fold {fold}\")\n",
    "\n",
    "        model.apply(reset_weights)\n",
    "\n",
    "        train_loader = DataLoader(dataset, batch_size=BATCH_SIZE, sampler=SubsetRandomSampler(train_ids))\n",
    "        test_loader = DataLoader(dataset, batch_size=BATCH_SIZE, sampler=SubsetRandomSampler(test_ids))\n",
    "\n",
    "        train(EPOCHS, train_loader, model, optimizer, criterion)\n",
    "\n",
    "        loss, accuracy = test(test_loader, model, criterion)\n",
    "\n",
    "        print(f\"Fold {fold} loss: {loss:.4f}, accuracy: {accuracy:.2f}%\")\n",
    "\n",
    "        writer.add_scalar('Loss/test/fold', loss, fold)\n",
    "        writer.add_scalar('Accuracy/test/fold', accuracy, fold)\n",
    "\n",
    "        writer.flush()\n",
    "\n",
    "        torch.save(model.state_dict(), f'./models/booking/fold_{fold}.pt')        "
   ]
  },
  {
   "cell_type": "code",
   "execution_count": null,
   "metadata": {},
   "outputs": [],
   "source": [
    "model = Model().to(device)\n",
    "\n",
    "optimizer = torch.optim.Adam(model.parameters(), lr=LEARNING_RATE)\n",
    "criterion = nn.CrossEntropyLoss()\n",
    "# lrs = torch.optim.lr_scheduler.ExponentialLR(optimizer, gamma=LRS_GAMMA)"
   ]
  },
  {
   "cell_type": "code",
   "execution_count": null,
   "metadata": {},
   "outputs": [],
   "source": [
    "# k_fold_cv(FOLDS, dataset, model, optimizer, criterion)\n",
    "train_loader = DataLoader(dataset, batch_size=BATCH_SIZE, shuffle=True)\n",
    "train(EPOCHS, train_loader, model, optimizer, criterion, True)"
   ]
  }
 ],
 "metadata": {
  "kernelspec": {
   "display_name": "Python 3",
   "language": "python",
   "name": "python3"
  },
  "language_info": {
   "codemirror_mode": {
    "name": "ipython",
    "version": 3
   },
   "file_extension": ".py",
   "mimetype": "text/x-python",
   "name": "python",
   "nbconvert_exporter": "python",
   "pygments_lexer": "ipython3",
   "version": "3.10.12"
  }
 },
 "nbformat": 4,
 "nbformat_minor": 2
}
