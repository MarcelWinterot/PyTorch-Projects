{
 "cells": [
  {
   "cell_type": "code",
   "execution_count": 1,
   "metadata": {},
   "outputs": [],
   "source": [
    "import sys\n",
    "\n",
    "sys.path.append('../')\n",
    "\n",
    "import os\n",
    "import shutil\n",
    "\n",
    "if os.path.exists('./runs/booking'):\n",
    "    shutil.rmtree('./runs/booking')\n",
    "\n",
    "\n",
    "os.environ['CUDA_LAUNCH_BLOCKING'] = '1'\n",
    "# os.environ['PYTORCH_CUDA_ALLOC_CONF'] = 'max_split_size_mb:128'"
   ]
  },
  {
   "cell_type": "code",
   "execution_count": 2,
   "metadata": {},
   "outputs": [
    {
     "name": "stderr",
     "output_type": "stream",
     "text": [
      "2024-02-02 21:03:21.980878: E external/local_xla/xla/stream_executor/cuda/cuda_dnn.cc:9261] Unable to register cuDNN factory: Attempting to register factory for plugin cuDNN when one has already been registered\n",
      "2024-02-02 21:03:21.980918: E external/local_xla/xla/stream_executor/cuda/cuda_fft.cc:607] Unable to register cuFFT factory: Attempting to register factory for plugin cuFFT when one has already been registered\n",
      "2024-02-02 21:03:21.981776: E external/local_xla/xla/stream_executor/cuda/cuda_blas.cc:1515] Unable to register cuBLAS factory: Attempting to register factory for plugin cuBLAS when one has already been registered\n",
      "2024-02-02 21:03:21.987840: I tensorflow/core/platform/cpu_feature_guard.cc:182] This TensorFlow binary is optimized to use available CPU instructions in performance-critical operations.\n",
      "To enable the following instructions: AVX2 FMA, in other operations, rebuild TensorFlow with the appropriate compiler flags.\n",
      "2024-02-02 21:03:22.690060: W tensorflow/compiler/tf2tensorrt/utils/py_utils.cc:38] TF-TRT Warning: Could not find TensorRT\n"
     ]
    },
    {
     "data": {
      "text/plain": [
       "<torch.autograd.anomaly_mode.set_detect_anomaly at 0x7f326b3a0100>"
      ]
     },
     "execution_count": 2,
     "metadata": {},
     "output_type": "execute_result"
    }
   ],
   "source": [
    "from Model import Model_1 as Model\n",
    "\n",
    "import torch\n",
    "import torch.nn as nn\n",
    "import torch.nn.functional as F\n",
    "\n",
    "from tqdm import tqdm\n",
    "\n",
    "from torch.utils.tensorboard import SummaryWriter\n",
    "\n",
    "from sklearn.model_selection import KFold\n",
    "\n",
    "writer = SummaryWriter('./runs/booking')\n",
    "\n",
    "torch.autograd.set_detect_anomaly(True)"
   ]
  },
  {
   "cell_type": "code",
   "execution_count": 3,
   "metadata": {},
   "outputs": [],
   "source": [
    "BATCH_SIZE = 2048\n",
    "EPOCHS = 10\n",
    "LEARNING_RATE = 0.001\n",
    "FOLDS = 10\n",
    "K_ACCURACY = 4\n",
    "LRS_GAMMA = 0.625\n",
    "USE_LRS = False\n",
    "\n",
    "device = torch.device('cuda' if torch.cuda.is_available() else 'cpu')\n",
    "torch.backends.cudnn.enabled = True"
   ]
  },
  {
   "cell_type": "code",
   "execution_count": 4,
   "metadata": {},
   "outputs": [],
   "source": [
    "import random\n",
    "import numpy as np\n",
    "\n",
    "def seed_torch(seed_value):\n",
    "    random.seed(seed_value) # Python\n",
    "    np.random.seed(seed_value) # cpu vars\n",
    "    torch.manual_seed(seed_value) # cpu  vars    \n",
    "    if torch.cuda.is_available(): \n",
    "        torch.cuda.manual_seed(seed_value)\n",
    "        torch.cuda.manual_seed_all(seed_value) # gpu vars\n",
    "    if torch.backends.cudnn.is_available:\n",
    "        torch.backends.cudnn.deterministic = True\n",
    "        torch.backends.cudnn.benchmark = False\n",
    "\n",
    "seed_torch(0)"
   ]
  },
  {
   "cell_type": "code",
   "execution_count": 5,
   "metadata": {},
   "outputs": [],
   "source": [
    "from torch.utils.data import SubsetRandomSampler, DataLoader\n",
    "from Dataset import PartDataset\n",
    "\n",
    "X = torch.load('X.pt')\n",
    "y_city = torch.load('y_city.pt')\n",
    "\n",
    "dataset = PartDataset(X, y_city)"
   ]
  },
  {
   "cell_type": "code",
   "execution_count": 6,
   "metadata": {},
   "outputs": [],
   "source": [
    "def reset_weights(m):\n",
    "    for layer in m.children():\n",
    "        if hasattr(layer, 'reset_parameters'):\n",
    "            layer.reset_parameters()"
   ]
  },
  {
   "cell_type": "code",
   "execution_count": 7,
   "metadata": {},
   "outputs": [],
   "source": [
    "def accuracy_at_k(outputs, labels, k = 1):\n",
    "    batch_size = labels.size(0)\n",
    "\n",
    "    _, pred_indices = outputs.topk(k, 1, True, True)\n",
    "    correct = torch.sum(torch.argmax(\n",
    "        labels, dim=1).view(-1, 1) == pred_indices)\n",
    "\n",
    "    accuracy = correct.item() / batch_size\n",
    "    return accuracy * 100, correct.item()"
   ]
  },
  {
   "cell_type": "code",
   "execution_count": 8,
   "metadata": {},
   "outputs": [],
   "source": [
    "def test(test_loader: torch.utils.data.DataLoader, model: nn.Module, criterion: nn.Module):\n",
    "    loss = 0\n",
    "    total_correct = 0\n",
    "    total_samples = 0\n",
    "\n",
    "    test_loader = tqdm(test_loader, desc='Testing')\n",
    "    \n",
    "    with torch.no_grad():\n",
    "        model.eval()\n",
    "        for inputs, labels in test_loader:\n",
    "            inputs = torch.unsqueeze(inputs, 2)\n",
    "\n",
    "            inputs = inputs.to(torch.float32).to(device)\n",
    "            labels = labels.to(torch.int64)\n",
    "\n",
    "            labels = nn.functional.one_hot(labels, num_classes=11987).to(torch.float32).to(device)\n",
    "\n",
    "            outputs = model(inputs)\n",
    "\n",
    "            loss += criterion(outputs, labels).item()\n",
    "\n",
    "            _, correct = accuracy_at_k(outputs, labels, K_ACCURACY)\n",
    "            total_correct += correct\n",
    "            total_samples += labels.size(0)\n",
    "\n",
    "    loss = loss / len(test_loader)\n",
    "    accuracy = total_correct / total_samples * 100\n",
    "\n",
    "    return loss, accuracy"
   ]
  },
  {
   "cell_type": "code",
   "execution_count": 9,
   "metadata": {},
   "outputs": [],
   "source": [
    "def train(epochs: int, train_loader: torch.utils.data.DataLoader, model: nn.Module, optimizer: torch.optim.Optimizer, criterion: nn.Module, save_model: bool = False, lrs: torch.optim.lr_scheduler = None) -> None:\n",
    "    for epoch in range(epochs):\n",
    "        model.train()\n",
    "\n",
    "        train_loader = tqdm(train_loader, desc='Training')\n",
    "\n",
    "        running_loss = 0.0\n",
    "        total_correct = 0\n",
    "        batch = 0\n",
    "        total_samples = 0\n",
    "\n",
    "        for i, (inputs, labels) in enumerate(train_loader, 1):\n",
    "            inputs = torch.unsqueeze(inputs, 2)\n",
    "\n",
    "            inputs = inputs.to(torch.float32).to(device)\n",
    "            labels = labels.to(torch.int64)\n",
    "\n",
    "            labels = nn.functional.one_hot(labels, num_classes=11988).to(torch.float32).to(device)\n",
    "\n",
    "            outputs = model(inputs)\n",
    "\n",
    "            loss = criterion(outputs, labels)\n",
    "\n",
    "            _, correct = accuracy_at_k(outputs, labels, K_ACCURACY)\n",
    "            total_correct += correct\n",
    "            total_samples += labels.size(0)\n",
    "\n",
    "            loss.backward()\n",
    "            optimizer.step()\n",
    "            optimizer.zero_grad()\n",
    "\n",
    "            running_loss += loss.item()\n",
    "\n",
    "            if i % 100 == 0:\n",
    "                epoch_loss = running_loss / i\n",
    "                batch_accuracy = total_correct / total_samples * 100\n",
    "\n",
    "                writer.add_scalar(f'Loss/train/batch/{epoch}', epoch_loss, batch)\n",
    "                writer.add_scalar(f'Accuracy/train/batch/{epoch}', batch_accuracy, batch)\n",
    "\n",
    "                batch += 1\n",
    "\n",
    "                writer.flush()\n",
    "\n",
    "        epoch_loss = running_loss / len(train_loader)\n",
    "        epoch_accuracy = total_correct / total_samples * 100\n",
    "\n",
    "        print(f\"Epoch {epoch} loss: {epoch_loss:.4f}, accuracy: {epoch_accuracy:.2f}%\")\n",
    "\n",
    "        writer.add_scalar('Loss/train/epoch', epoch_loss, epoch)\n",
    "        writer.add_scalar('Accuracy/train/epoch', epoch_accuracy, epoch)\n",
    "\n",
    "        writer.flush()\n",
    "\n",
    "        if save_model:\n",
    "            torch.save(model.state_dict(), f'./model_{epoch}.pt')\n",
    "\n",
    "        if lrs is not None:\n",
    "            lrs.step()"
   ]
  },
  {
   "cell_type": "code",
   "execution_count": 10,
   "metadata": {},
   "outputs": [],
   "source": [
    "def k_fold_cv(k: int, dataset: torch.utils.data.Dataset, model: nn.Module, optimizer: torch.optim.Optimizer, criterion: nn.Module, lrs: torch.optim.lr_scheduler = None):\n",
    "    folds = KFold(n_splits=k, shuffle=True)\n",
    "\n",
    "    for fold, (train_ids, test_ids) in enumerate(folds.split(dataset), 1):\n",
    "        print(f\"Fold {fold}\")\n",
    "\n",
    "        model.apply(reset_weights)\n",
    "\n",
    "        train_loader = DataLoader(dataset, batch_size=BATCH_SIZE, sampler=SubsetRandomSampler(train_ids))\n",
    "        test_loader = DataLoader(dataset, batch_size=BATCH_SIZE, sampler=SubsetRandomSampler(test_ids))\n",
    "\n",
    "        train(EPOCHS, train_loader, model, optimizer, criterion, lrs=lrs)\n",
    "\n",
    "        loss, accuracy = test(test_loader, model, criterion)\n",
    "\n",
    "        print(f\"Fold {fold} loss: {loss:.4f}, accuracy: {accuracy:.2f}%\")\n",
    "\n",
    "        writer.add_scalar('Loss/test/fold', loss, fold)\n",
    "        writer.add_scalar('Accuracy/test/fold', accuracy, fold)\n",
    "\n",
    "        writer.flush()\n",
    "\n",
    "        torch.save(model.state_dict(), f'./models/booking/fold_{fold}.pt')"
   ]
  },
  {
   "cell_type": "code",
   "execution_count": 11,
   "metadata": {},
   "outputs": [],
   "source": [
    "model = Model().to(device)\n",
    "\n",
    "optimizer = torch.optim.Adam(model.parameters(), lr=LEARNING_RATE)\n",
    "criterion = nn.CrossEntropyLoss()\n",
    "lrs = torch.optim.lr_scheduler.ExponentialLR(optimizer, gamma=LRS_GAMMA) if USE_LRS else None"
   ]
  },
  {
   "cell_type": "code",
   "execution_count": 12,
   "metadata": {},
   "outputs": [
    {
     "name": "stderr",
     "output_type": "stream",
     "text": [
      "Training: 100%|██████████| 1222/1222 [10:38<00:00,  1.91it/s]\n"
     ]
    },
    {
     "name": "stdout",
     "output_type": "stream",
     "text": [
      "Epoch 0 loss: 7.2951, accuracy: 7.41%\n"
     ]
    },
    {
     "name": "stderr",
     "output_type": "stream",
     "text": [
      "Training: 100%|██████████| 1222/1222 [10:40<00:00,  1.91it/s]\n"
     ]
    },
    {
     "name": "stdout",
     "output_type": "stream",
     "text": [
      "Epoch 1 loss: 5.1831, accuracy: 26.54%\n"
     ]
    },
    {
     "name": "stderr",
     "output_type": "stream",
     "text": [
      "Training: 100%|██████████| 1222/1222 [10:41<00:00,  1.90it/s]\n"
     ]
    },
    {
     "name": "stdout",
     "output_type": "stream",
     "text": [
      "Epoch 2 loss: 4.6941, accuracy: 31.67%\n"
     ]
    },
    {
     "name": "stderr",
     "output_type": "stream",
     "text": [
      "Training: 100%|██████████| 1222/1222 [10:45<00:00,  1.89it/s]\n"
     ]
    },
    {
     "name": "stdout",
     "output_type": "stream",
     "text": [
      "Epoch 3 loss: 4.4306, accuracy: 34.78%\n"
     ]
    },
    {
     "name": "stderr",
     "output_type": "stream",
     "text": [
      "Training: 100%|██████████| 1222/1222 [10:44<00:00,  1.89it/s]\n"
     ]
    },
    {
     "name": "stdout",
     "output_type": "stream",
     "text": [
      "Epoch 4 loss: 4.2053, accuracy: 37.59%\n"
     ]
    },
    {
     "name": "stderr",
     "output_type": "stream",
     "text": [
      "Training: 100%|██████████| 1222/1222 [10:46<00:00,  1.89it/s]\n"
     ]
    },
    {
     "name": "stdout",
     "output_type": "stream",
     "text": [
      "Epoch 5 loss: 4.0754, accuracy: 39.20%\n"
     ]
    },
    {
     "name": "stderr",
     "output_type": "stream",
     "text": [
      "Training: 100%|██████████| 1222/1222 [11:33<00:00,  1.76it/s]\n"
     ]
    },
    {
     "name": "stdout",
     "output_type": "stream",
     "text": [
      "Epoch 6 loss: 3.9565, accuracy: 40.60%\n"
     ]
    },
    {
     "name": "stderr",
     "output_type": "stream",
     "text": [
      "Training: 100%|██████████| 1222/1222 [11:07<00:00,  1.83it/s]\n"
     ]
    },
    {
     "name": "stdout",
     "output_type": "stream",
     "text": [
      "Epoch 7 loss: 3.8889, accuracy: 41.37%\n"
     ]
    },
    {
     "name": "stderr",
     "output_type": "stream",
     "text": [
      "Training: 100%|██████████| 1222/1222 [11:20<00:00,  1.79it/s]\n"
     ]
    },
    {
     "name": "stdout",
     "output_type": "stream",
     "text": [
      "Epoch 8 loss: 3.8138, accuracy: 42.35%\n"
     ]
    },
    {
     "name": "stderr",
     "output_type": "stream",
     "text": [
      "Training:   2%|▏         | 24/1222 [00:15<11:09,  1.79it/s]"
     ]
    }
   ],
   "source": [
    "# k_fold_cv(FOLDS, dataset, model, optimizer, criterion, lrs)\n",
    "train_loader = DataLoader(dataset, batch_size=BATCH_SIZE, shuffle=False)\n",
    "train(EPOCHS, train_loader, model, optimizer, criterion, True, lrs)"
   ]
  }
 ],
 "metadata": {
  "kernelspec": {
   "display_name": "Python 3",
   "language": "python",
   "name": "python3"
  },
  "language_info": {
   "codemirror_mode": {
    "name": "ipython",
    "version": 3
   },
   "file_extension": ".py",
   "mimetype": "text/x-python",
   "name": "python",
   "nbconvert_exporter": "python",
   "pygments_lexer": "ipython3",
   "version": "3.10.12"
  }
 },
 "nbformat": 4,
 "nbformat_minor": 2
}
