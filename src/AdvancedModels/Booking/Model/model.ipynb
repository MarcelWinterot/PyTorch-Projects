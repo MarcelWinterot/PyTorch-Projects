{
 "cells": [
  {
   "cell_type": "markdown",
   "metadata": {},
   "source": [
    "# Plans for the model\n",
    "\n",
    "## Architecture:\n",
    "\n",
    "#### Architecture will be simillar to transformer, as we will first predict country and then pass it into predicting the city\n",
    "\n",
    "#### Let's call the model predicting the countries a 'country block' and cities a 'city block'\n",
    "\n",
    "#### Each block will be made out of a mix of RNN and CNN layers, and ending with a few Linear layers\n",
    "\n",
    "## Training:\n",
    "\n",
    "#### First we will teach the model to predict the destination country correctly\n",
    "\n",
    "#### Next we will get true coutnry data and teach the model to predict cities\n",
    "\n",
    "#### Finnaly we will combine it and teach the 2 blocks to work together\n",
    "\n",
    "## Shapes:\n",
    "\n",
    "#### Input shape of country block: (batch_size, 9)\n",
    "\n",
    "#### Input shape of city block: (batch_size, 10), with the last element being the output of country block\n",
    "\n",
    "#### Output shape of country block: (batch_size, 192)\n",
    "\n",
    "#### Output shape of city block: (batch_size, 37615)\n",
    "\n",
    "## Technologies:\n",
    "\n",
    "#### 1. PyTorch"
   ]
  },
  {
   "cell_type": "markdown",
   "metadata": {},
   "source": [
    "### Note that this is the first version of the model and it will change as I perform more tests"
   ]
  },
  {
   "cell_type": "code",
   "execution_count": 2,
   "metadata": {},
   "outputs": [],
   "source": [
    "import torch\n",
    "import torch.nn as nn\n",
    "import torch.nn.functional as F"
   ]
  },
  {
   "cell_type": "code",
   "execution_count": 3,
   "metadata": {},
   "outputs": [],
   "source": [
    "class CountryBlock(nn.Module):\n",
    "    def __init__(self):\n",
    "        super(CountryBlock, self).__init__()\n",
    "        self.lstm_1 = nn.LSTM(1, 32, 1, batch_first=True)\n",
    "        self.lstm_2 = nn.LSTM(32, 64, 1, batch_first=True)\n",
    "        self.lstm_3 = nn.LSTM(64, 96, 1, batch_first=True)\n",
    "\n",
    "        self.conv_1 = nn.Conv1d(96, 128, 1, 1)\n",
    "        self.conv_2 = nn.Conv1d(128, 64, 1, 1)\n",
    "        self.conv_3 = nn.Conv1d(64, 32, 1, 1)\n",
    "\n",
    "        self.flatten = nn.Flatten()\n",
    "\n",
    "        self.linear_1 = nn.Linear(32 * 9, 256)\n",
    "        self.linear_2 = nn.Linear(256, 192)\n",
    "\n",
    "        self.relu = nn.ReLU()\n",
    "        self.drop_02 = nn.Dropout(0.2)\n",
    "        self.drop_05 = nn.Dropout(0.5)\n",
    "\n",
    "    def forward(self, X):\n",
    "        X, _ = self.lstm_1(X)\n",
    "        X = self.drop_02(X)\n",
    "\n",
    "        X, _ = self.lstm_2(X)\n",
    "        X = self.drop_02(X)\n",
    "\n",
    "        X, _ = self.lstm_3(X)\n",
    "        X = self.drop_02(X)\n",
    "\n",
    "        X = X.permute(0, 2, 1)\n",
    "\n",
    "        X = self.conv_1(X)\n",
    "        X = self.relu(X)\n",
    "        X = self.drop_02(X)\n",
    "\n",
    "        X = self.conv_2(X)\n",
    "        X = self.relu(X)\n",
    "        X = self.drop_02(X)\n",
    "\n",
    "        X = self.conv_3(X)\n",
    "        X = self.relu(X)\n",
    "        X = self.drop_02(X)\n",
    "\n",
    "        X = self.flatten(X)\n",
    "\n",
    "        X = self.linear_1(X)\n",
    "        X = self.relu(X)\n",
    "        X = self.drop_05(X)\n",
    "        X = self.linear_2(X)\n",
    "\n",
    "        X = F.softmax(X)\n",
    "\n",
    "        return X"
   ]
  },
  {
   "cell_type": "code",
   "execution_count": 4,
   "metadata": {},
   "outputs": [
    {
     "name": "stderr",
     "output_type": "stream",
     "text": [
      "C:\\Users\\Marcel\\AppData\\Local\\Temp\\ipykernel_26356\\2971947118.py:52: UserWarning: Implicit dimension choice for softmax has been deprecated. Change the call to include dim=X as an argument.\n",
      "  X = F.softmax(X)\n"
     ]
    },
    {
     "data": {
      "text/plain": [
       "tensor([[0.0054, 0.0055, 0.0053, 0.0055, 0.0050, 0.0053, 0.0050, 0.0049, 0.0054,\n",
       "         0.0049, 0.0050, 0.0055, 0.0051, 0.0053, 0.0053, 0.0051, 0.0049, 0.0056,\n",
       "         0.0053, 0.0052, 0.0049, 0.0053, 0.0052, 0.0051, 0.0053, 0.0055, 0.0053,\n",
       "         0.0052, 0.0052, 0.0053, 0.0050, 0.0054, 0.0056, 0.0050, 0.0051, 0.0050,\n",
       "         0.0047, 0.0051, 0.0050, 0.0052, 0.0050, 0.0053, 0.0053, 0.0050, 0.0055,\n",
       "         0.0055, 0.0051, 0.0052, 0.0052, 0.0048, 0.0052, 0.0051, 0.0052, 0.0052,\n",
       "         0.0050, 0.0050, 0.0057, 0.0051, 0.0054, 0.0053, 0.0057, 0.0052, 0.0051,\n",
       "         0.0056, 0.0053, 0.0050, 0.0051, 0.0055, 0.0054, 0.0054, 0.0053, 0.0053,\n",
       "         0.0056, 0.0051, 0.0058, 0.0050, 0.0048, 0.0053, 0.0052, 0.0053, 0.0051,\n",
       "         0.0053, 0.0056, 0.0050, 0.0054, 0.0049, 0.0056, 0.0053, 0.0056, 0.0052,\n",
       "         0.0057, 0.0052, 0.0050, 0.0051, 0.0054, 0.0051, 0.0053, 0.0051, 0.0051,\n",
       "         0.0050, 0.0054, 0.0049, 0.0055, 0.0055, 0.0055, 0.0051, 0.0048, 0.0051,\n",
       "         0.0053, 0.0053, 0.0053, 0.0055, 0.0053, 0.0054, 0.0052, 0.0050, 0.0052,\n",
       "         0.0051, 0.0053, 0.0054, 0.0049, 0.0050, 0.0052, 0.0053, 0.0051, 0.0053,\n",
       "         0.0055, 0.0054, 0.0053, 0.0053, 0.0054, 0.0054, 0.0054, 0.0053, 0.0055,\n",
       "         0.0054, 0.0050, 0.0053, 0.0053, 0.0050, 0.0053, 0.0049, 0.0048, 0.0052,\n",
       "         0.0050, 0.0052, 0.0050, 0.0050, 0.0050, 0.0056, 0.0056, 0.0049, 0.0050,\n",
       "         0.0056, 0.0051, 0.0049, 0.0050, 0.0053, 0.0053, 0.0052, 0.0051, 0.0053,\n",
       "         0.0049, 0.0051, 0.0052, 0.0052, 0.0052, 0.0053, 0.0053, 0.0050, 0.0054,\n",
       "         0.0053, 0.0051, 0.0050, 0.0049, 0.0055, 0.0050, 0.0049, 0.0049, 0.0051,\n",
       "         0.0050, 0.0054, 0.0051, 0.0048, 0.0051, 0.0048, 0.0054, 0.0052, 0.0053,\n",
       "         0.0054, 0.0051, 0.0050]], grad_fn=<SoftmaxBackward0>)"
      ]
     },
     "execution_count": 4,
     "metadata": {},
     "output_type": "execute_result"
    }
   ],
   "source": [
    "# Testing the block\n",
    "block = CountryBlock()\n",
    "block.forward(torch.rand(1, 9, 1))\n",
    "# print(block)"
   ]
  },
  {
   "cell_type": "code",
   "execution_count": 5,
   "metadata": {},
   "outputs": [],
   "source": [
    "class CityBlock(nn.Module):\n",
    "    def __init__(self):\n",
    "        super(CityBlock, self).__init__()\n",
    "        self.lstm_1 = nn.LSTM(1, 32, 1, batch_first=True)\n",
    "        self.lstm_2 = nn.LSTM(32, 64, 1, batch_first=True)\n",
    "        self.lstm_3 = nn.LSTM(64, 96, 1, batch_first=True)\n",
    "\n",
    "        self.conv_1 = nn.Conv1d(96, 128, 1, 1)\n",
    "        self.conv_2 = nn.Conv1d(128, 256, 1, 1)\n",
    "        self.conv_3 = nn.Conv1d(256, 512, 1, 1)\n",
    "\n",
    "        self.flatten = nn.Flatten()\n",
    "\n",
    "        self.linear_1 = nn.Linear(512 * 10, 512 * 20)\n",
    "        self.linear_2 = nn.Linear(512 * 20, 37615)\n",
    "\n",
    "        self.relu = nn.ReLU()\n",
    "        self.drop_02 = nn.Dropout(0.2)\n",
    "        self.drop_05 = nn.Dropout(0.5)\n",
    "\n",
    "    def forward(self, X):\n",
    "        X, _ = self.lstm_1(X)\n",
    "        X = self.drop_02(X)\n",
    "\n",
    "        X, _ = self.lstm_2(X)\n",
    "        X = self.drop_02(X)\n",
    "\n",
    "        X, _ = self.lstm_3(X)\n",
    "        X = self.drop_02(X)\n",
    "\n",
    "        X = X.permute(0, 2, 1)\n",
    "\n",
    "        X = self.conv_1(X)\n",
    "        X = self.relu(X)\n",
    "        X = self.drop_02(X)\n",
    "\n",
    "        X = self.conv_2(X)\n",
    "        X = self.relu(X)\n",
    "        X = self.drop_02(X)\n",
    "\n",
    "        X = self.conv_3(X)\n",
    "        X = self.relu(X)\n",
    "        X = self.drop_02(X)\n",
    "\n",
    "        X = self.flatten(X)\n",
    "\n",
    "        X = self.linear_1(X)\n",
    "        X = self.relu(X)\n",
    "        X = self.drop_05(X)\n",
    "\n",
    "        X = self.linear_2(X)\n",
    "\n",
    "        X = F.softmax(X)\n",
    "\n",
    "        return X"
   ]
  },
  {
   "cell_type": "code",
   "execution_count": 6,
   "metadata": {},
   "outputs": [
    {
     "name": "stdout",
     "output_type": "stream",
     "text": [
      "CityBlock(\n",
      "  (lstm_1): LSTM(1, 32, batch_first=True)\n",
      "  (lstm_2): LSTM(32, 64, batch_first=True)\n",
      "  (lstm_3): LSTM(64, 96, batch_first=True)\n",
      "  (conv_1): Conv1d(96, 128, kernel_size=(1,), stride=(1,))\n",
      "  (conv_2): Conv1d(128, 256, kernel_size=(1,), stride=(1,))\n",
      "  (conv_3): Conv1d(256, 512, kernel_size=(1,), stride=(1,))\n",
      "  (flatten): Flatten(start_dim=1, end_dim=-1)\n",
      "  (linear_1): Linear(in_features=5120, out_features=10240, bias=True)\n",
      "  (linear_2): Linear(in_features=10240, out_features=37615, bias=True)\n",
      "  (relu): ReLU()\n",
      "  (drop_02): Dropout(p=0.2, inplace=True)\n",
      "  (drop_05): Dropout(p=0.5, inplace=True)\n",
      ")\n"
     ]
    },
    {
     "name": "stderr",
     "output_type": "stream",
     "text": [
      "C:\\Users\\Marcel\\AppData\\Local\\Temp\\ipykernel_26356\\718956853.py:53: UserWarning: Implicit dimension choice for softmax has been deprecated. Change the call to include dim=X as an argument.\n",
      "  X = F.softmax(X)\n"
     ]
    }
   ],
   "source": [
    "# Testing the block\n",
    "block = CityBlock()\n",
    "block.forward(torch.rand(1, 10, 1))\n",
    "print(block)"
   ]
  },
  {
   "cell_type": "code",
   "execution_count": 25,
   "metadata": {},
   "outputs": [],
   "source": [
    "class Model(nn.Module):\n",
    "    def __init__(self):\n",
    "        super(Model, self).__init__()\n",
    "        self.country_block = CountryBlock()\n",
    "        self.city_block = CityBlock()\n",
    "\n",
    "        self.country_embedding = nn.Embedding(195, 1)\n",
    "        self.city_embedding = nn.Embedding(39900, 1)\n",
    "\n",
    "    def forward(self, X):\n",
    "        X[:, 0] = self.city_embedding(X[:, 0].long()).squeeze(2)\n",
    "        X[:, 1] = self.country_embedding(X[:, 1].long()).squeeze(2)\n",
    "        X[:, 2] = self.country_embedding(X[:, 2].long()).squeeze(2)\n",
    "\n",
    "        country = self.country_block(X)\n",
    "\n",
    "        country_argmax = torch.argmax(country, dim=1, keepdim=True)\n",
    "        \n",
    "        country_embeddeed = self.country_embedding(country_argmax)\n",
    "\n",
    "        X = torch.cat((X, country_embeddeed), dim=1)\n",
    "\n",
    "        city = self.city_block(X)\n",
    "\n",
    "        return country, city"
   ]
  },
  {
   "cell_type": "code",
   "execution_count": 26,
   "metadata": {},
   "outputs": [
    {
     "name": "stdout",
     "output_type": "stream",
     "text": [
      "tensor(194)\n",
      "tensor(194)\n"
     ]
    },
    {
     "name": "stderr",
     "output_type": "stream",
     "text": [
      "C:\\Users\\Marcel\\AppData\\Local\\Temp\\ipykernel_26356\\2971947118.py:52: UserWarning: Implicit dimension choice for softmax has been deprecated. Change the call to include dim=X as an argument.\n",
      "  X = F.softmax(X)\n"
     ]
    },
    {
     "name": "stdout",
     "output_type": "stream",
     "text": [
      "Model(\n",
      "  (country_block): CountryBlock(\n",
      "    (lstm_1): LSTM(1, 32, batch_first=True)\n",
      "    (lstm_2): LSTM(32, 64, batch_first=True)\n",
      "    (lstm_3): LSTM(64, 96, batch_first=True)\n",
      "    (conv_1): Conv1d(96, 128, kernel_size=(1,), stride=(1,))\n",
      "    (conv_2): Conv1d(128, 64, kernel_size=(1,), stride=(1,))\n",
      "    (conv_3): Conv1d(64, 32, kernel_size=(1,), stride=(1,))\n",
      "    (flatten): Flatten(start_dim=1, end_dim=-1)\n",
      "    (linear_1): Linear(in_features=288, out_features=256, bias=True)\n",
      "    (linear_2): Linear(in_features=256, out_features=192, bias=True)\n",
      "    (relu): ReLU()\n",
      "    (drop_02): Dropout(p=0.2, inplace=True)\n",
      "    (drop_05): Dropout(p=0.5, inplace=True)\n",
      "  )\n",
      "  (city_block): CityBlock(\n",
      "    (lstm_1): LSTM(1, 32, batch_first=True)\n",
      "    (lstm_2): LSTM(32, 64, batch_first=True)\n",
      "    (lstm_3): LSTM(64, 96, batch_first=True)\n",
      "    (conv_1): Conv1d(96, 128, kernel_size=(1,), stride=(1,))\n",
      "    (conv_2): Conv1d(128, 256, kernel_size=(1,), stride=(1,))\n",
      "    (conv_3): Conv1d(256, 512, kernel_size=(1,), stride=(1,))\n",
      "    (flatten): Flatten(start_dim=1, end_dim=-1)\n",
      "    (linear_1): Linear(in_features=5120, out_features=10240, bias=True)\n",
      "    (linear_2): Linear(in_features=10240, out_features=37615, bias=True)\n",
      "    (relu): ReLU()\n",
      "    (drop_02): Dropout(p=0.2, inplace=True)\n",
      "    (drop_05): Dropout(p=0.5, inplace=True)\n",
      "  )\n",
      "  (country_embedding): Embedding(195, 1)\n",
      "  (city_embedding): Embedding(39900, 1)\n",
      ")\n"
     ]
    },
    {
     "name": "stderr",
     "output_type": "stream",
     "text": [
      "C:\\Users\\Marcel\\AppData\\Local\\Temp\\ipykernel_26356\\718956853.py:53: UserWarning: Implicit dimension choice for softmax has been deprecated. Change the call to include dim=X as an argument.\n",
      "  X = F.softmax(X)\n"
     ]
    }
   ],
   "source": [
    "# Testing the model\n",
    "city = torch.randint(0, 39900, (1024, 1, 1))\n",
    "country_1 = torch.randint(0, 195, (1024, 1, 1))\n",
    "country_2 = torch.randint(0, 195, (1024, 1, 1))\n",
    "\n",
    "print(torch.max(country_1))\n",
    "print(torch.max(country_2))\n",
    "\n",
    "X = torch.cat((city, country_1, country_2), dim=1)\n",
    "\n",
    "random_values = torch.rand(1024, 6, 1)\n",
    "\n",
    "X = torch.cat((X, random_values), dim=1)\n",
    "\n",
    "model = Model()\n",
    "model.forward(X)\n",
    "print(model)"
   ]
  }
 ],
 "metadata": {
  "kernelspec": {
   "display_name": "Python 3",
   "language": "python",
   "name": "python3"
  },
  "language_info": {
   "codemirror_mode": {
    "name": "ipython",
    "version": 3
   },
   "file_extension": ".py",
   "mimetype": "text/x-python",
   "name": "python",
   "nbconvert_exporter": "python",
   "pygments_lexer": "ipython3",
   "version": "3.11.7"
  }
 },
 "nbformat": 4,
 "nbformat_minor": 2
}
